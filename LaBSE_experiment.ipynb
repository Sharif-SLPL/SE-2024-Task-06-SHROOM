{
  "cells": [
    {
      "cell_type": "markdown",
      "metadata": {
        "id": "thx_4a9lPy4E"
      },
      "source": [
        "# 1. Install Requirements"
      ]
    },
    {
      "cell_type": "code",
      "execution_count": null,
      "metadata": {
        "colab": {
          "base_uri": "https://localhost:8080/"
        },
        "id": "TC2VxBLFLRbl",
        "outputId": "579a7c7f-88fe-47f8-8160-97b3e878047a"
      },
      "outputs": [
        {
          "name": "stdout",
          "output_type": "stream",
          "text": [
            "Requirement already satisfied: sentence-transformers in /usr/local/lib/python3.10/dist-packages (2.2.2)\n",
            "Requirement already satisfied: transformers<5.0.0,>=4.6.0 in /usr/local/lib/python3.10/dist-packages (from sentence-transformers) (4.35.2)\n",
            "Requirement already satisfied: tqdm in /usr/local/lib/python3.10/dist-packages (from sentence-transformers) (4.66.1)\n",
            "Requirement already satisfied: torch>=1.6.0 in /usr/local/lib/python3.10/dist-packages (from sentence-transformers) (2.1.0+cu118)\n",
            "Requirement already satisfied: torchvision in /usr/local/lib/python3.10/dist-packages (from sentence-transformers) (0.16.0+cu118)\n",
            "Requirement already satisfied: numpy in /usr/local/lib/python3.10/dist-packages (from sentence-transformers) (1.23.5)\n",
            "Requirement already satisfied: scikit-learn in /usr/local/lib/python3.10/dist-packages (from sentence-transformers) (1.2.2)\n",
            "Requirement already satisfied: scipy in /usr/local/lib/python3.10/dist-packages (from sentence-transformers) (1.11.3)\n",
            "Requirement already satisfied: nltk in /usr/local/lib/python3.10/dist-packages (from sentence-transformers) (3.8.1)\n",
            "Requirement already satisfied: sentencepiece in /usr/local/lib/python3.10/dist-packages (from sentence-transformers) (0.1.99)\n",
            "Requirement already satisfied: huggingface-hub>=0.4.0 in /usr/local/lib/python3.10/dist-packages (from sentence-transformers) (0.19.3)\n",
            "Requirement already satisfied: filelock in /usr/local/lib/python3.10/dist-packages (from huggingface-hub>=0.4.0->sentence-transformers) (3.13.1)\n",
            "Requirement already satisfied: fsspec>=2023.5.0 in /usr/local/lib/python3.10/dist-packages (from huggingface-hub>=0.4.0->sentence-transformers) (2023.6.0)\n",
            "Requirement already satisfied: requests in /usr/local/lib/python3.10/dist-packages (from huggingface-hub>=0.4.0->sentence-transformers) (2.31.0)\n",
            "Requirement already satisfied: pyyaml>=5.1 in /usr/local/lib/python3.10/dist-packages (from huggingface-hub>=0.4.0->sentence-transformers) (6.0.1)\n",
            "Requirement already satisfied: typing-extensions>=3.7.4.3 in /usr/local/lib/python3.10/dist-packages (from huggingface-hub>=0.4.0->sentence-transformers) (4.5.0)\n",
            "Requirement already satisfied: packaging>=20.9 in /usr/local/lib/python3.10/dist-packages (from huggingface-hub>=0.4.0->sentence-transformers) (23.2)\n",
            "Requirement already satisfied: sympy in /usr/local/lib/python3.10/dist-packages (from torch>=1.6.0->sentence-transformers) (1.12)\n",
            "Requirement already satisfied: networkx in /usr/local/lib/python3.10/dist-packages (from torch>=1.6.0->sentence-transformers) (3.2.1)\n",
            "Requirement already satisfied: jinja2 in /usr/local/lib/python3.10/dist-packages (from torch>=1.6.0->sentence-transformers) (3.1.2)\n",
            "Requirement already satisfied: triton==2.1.0 in /usr/local/lib/python3.10/dist-packages (from torch>=1.6.0->sentence-transformers) (2.1.0)\n",
            "Requirement already satisfied: regex!=2019.12.17 in /usr/local/lib/python3.10/dist-packages (from transformers<5.0.0,>=4.6.0->sentence-transformers) (2023.6.3)\n",
            "Requirement already satisfied: tokenizers<0.19,>=0.14 in /usr/local/lib/python3.10/dist-packages (from transformers<5.0.0,>=4.6.0->sentence-transformers) (0.15.0)\n",
            "Requirement already satisfied: safetensors>=0.3.1 in /usr/local/lib/python3.10/dist-packages (from transformers<5.0.0,>=4.6.0->sentence-transformers) (0.4.0)\n",
            "Requirement already satisfied: click in /usr/local/lib/python3.10/dist-packages (from nltk->sentence-transformers) (8.1.7)\n",
            "Requirement already satisfied: joblib in /usr/local/lib/python3.10/dist-packages (from nltk->sentence-transformers) (1.3.2)\n",
            "Requirement already satisfied: threadpoolctl>=2.0.0 in /usr/local/lib/python3.10/dist-packages (from scikit-learn->sentence-transformers) (3.2.0)\n",
            "Requirement already satisfied: pillow!=8.3.*,>=5.3.0 in /usr/local/lib/python3.10/dist-packages (from torchvision->sentence-transformers) (9.4.0)\n",
            "Requirement already satisfied: MarkupSafe>=2.0 in /usr/local/lib/python3.10/dist-packages (from jinja2->torch>=1.6.0->sentence-transformers) (2.1.3)\n",
            "Requirement already satisfied: charset-normalizer<4,>=2 in /usr/local/lib/python3.10/dist-packages (from requests->huggingface-hub>=0.4.0->sentence-transformers) (3.3.2)\n",
            "Requirement already satisfied: idna<4,>=2.5 in /usr/local/lib/python3.10/dist-packages (from requests->huggingface-hub>=0.4.0->sentence-transformers) (3.4)\n",
            "Requirement already satisfied: urllib3<3,>=1.21.1 in /usr/local/lib/python3.10/dist-packages (from requests->huggingface-hub>=0.4.0->sentence-transformers) (2.0.7)\n",
            "Requirement already satisfied: certifi>=2017.4.17 in /usr/local/lib/python3.10/dist-packages (from requests->huggingface-hub>=0.4.0->sentence-transformers) (2023.7.22)\n",
            "Requirement already satisfied: mpmath>=0.19 in /usr/local/lib/python3.10/dist-packages (from sympy->torch>=1.6.0->sentence-transformers) (1.3.0)\n"
          ]
        }
      ],
      "source": [
        "!pip install -U sentence-transformers"
      ]
    },
    {
      "cell_type": "markdown",
      "metadata": {
        "id": "IwsH0LKeP2pj"
      },
      "source": [
        "# 2. Load LaBSE"
      ]
    },
    {
      "cell_type": "code",
      "execution_count": null,
      "metadata": {
        "colab": {
          "base_uri": "https://localhost:8080/"
        },
        "id": "SIi3Nfs9LpF_",
        "outputId": "20587ac2-81a2-4e31-e625-ea96538a94e2"
      },
      "outputs": [
        {
          "name": "stdout",
          "output_type": "stream",
          "text": [
            "[[ 0.02882476 -0.0060238  -0.05947006 ... -0.03002251 -0.02960703\n",
            "   0.00067478]\n",
            " [-0.05550232  0.02546488 -0.02157256 ...  0.02932104  0.01150039\n",
            "  -0.00848788]]\n"
          ]
        }
      ],
      "source": [
        "from sentence_transformers import SentenceTransformer\n",
        "sentences = [\"This is an example sentence\", \"Each sentence is converted\"]\n",
        "\n",
        "model = SentenceTransformer('sentence-transformers/LaBSE')\n",
        "embeddings = model.encode(sentences)\n",
        "print(embeddings)"
      ]
    },
    {
      "cell_type": "markdown",
      "metadata": {
        "id": "Q5LZFpaKQCLq"
      },
      "source": [
        "# 3. Load & Preprocess Data\n",
        "\n",
        "To run cell below you should put all data files on the same folder as this notebook."
      ]
    },
    {
      "cell_type": "code",
      "execution_count": null,
      "metadata": {
        "id": "zpLed3fZQF54"
      },
      "outputs": [],
      "source": [
        "import pandas as pd\n",
        "import json\n",
        "\n",
        "with open(\"train.model-agnostic.json\", \"r\") as f:\n",
        "    train_agnostic = pd.DataFrame(json.loads(f.read()))\n",
        "with open(\"train.model-aware.json\", \"r\") as f:\n",
        "    train_aware = pd.DataFrame(json.loads(f.read()))\n",
        "with open(\"val.model-agnostic.json\", \"r\") as f:\n",
        "    val_agnostic = pd.DataFrame(json.loads(f.read()))\n",
        "with open(\"val.model-aware.v2.json\", \"r\") as f:\n",
        "    val_aware = pd.DataFrame(json.loads(f.read()))\n",
        "with open(\"trial-v1.json\", \"r\") as f:\n",
        "    test = pd.DataFrame(json.loads(f.read()))"
      ]
    },
    {
      "cell_type": "markdown",
      "metadata": {
        "id": "sYgp0o0Gv2Do"
      },
      "source": [
        "> \"The ref key therefore indicate whether target, source or both of these fields contain the semantic information necessary to establish whether a datapoint is a hallucination.\""
      ]
    },
    {
      "cell_type": "code",
      "execution_count": null,
      "metadata": {
        "id": "zvGhraOYMPm3"
      },
      "outputs": [],
      "source": [
        "tasks = ['MT', 'DM', 'PG']\n",
        "\n",
        "def preprocess_data(data_df):\n",
        "    output = {\"hyp\": {'all': [], 'MT': [], 'DM': [], 'PG': []},\n",
        "              \"tgt\": {'all': [], 'MT': [], 'DM': [], 'PG': []},\n",
        "              \"labels\": {'all': [], 'MT': [], 'DM': [], 'PG': []}}\n",
        "    for index, row in data_df.iterrows():\n",
        "        hyp = row['hyp']\n",
        "        if row['ref'] == 'either' or row['ref'] == 'tgt':\n",
        "            tgt = row['tgt']\n",
        "        else:\n",
        "            tgt = row['src']\n",
        "\n",
        "        task = row['task'].strip()\n",
        "        if task in tasks:\n",
        "            output['hyp'][task].append(hyp)\n",
        "            output['tgt'][task].append(tgt)\n",
        "            output['labels'][task].append(row['p(Hallucination)'])\n",
        "\n",
        "            output['hyp']['all'].append(hyp)\n",
        "            output['tgt']['all'].append(tgt)\n",
        "            output['labels']['all'].append(row['p(Hallucination)'])\n",
        "\n",
        "    return output"
      ]
    },
    {
      "cell_type": "code",
      "execution_count": null,
      "metadata": {
        "id": "QkqvNMzEPJKH"
      },
      "outputs": [],
      "source": [
        "p_val_agnostic = preprocess_data(val_agnostic)\n",
        "p_val_aware = preprocess_data(val_aware)\n",
        "p_test = preprocess_data(test)"
      ]
    },
    {
      "cell_type": "markdown",
      "metadata": {
        "id": "EvjII0CmU0IS"
      },
      "source": [
        "# 4. Get Embeddings & Calculate Similarity Scores"
      ]
    },
    {
      "cell_type": "code",
      "execution_count": null,
      "metadata": {
        "id": "UoUE4PtDKZZW"
      },
      "outputs": [],
      "source": [
        "import numpy as np\n",
        "\n",
        "def encode_LaBSE(p_data, model):\n",
        "    output = {\"hyp\": {},\n",
        "              \"tgt\": {},\n",
        "              \"labels\": {}}\n",
        "    for key, value in p_data['hyp'].items():\n",
        "        output['hyp'][key] = model.encode(value)\n",
        "    for key, value in p_data['tgt'].items():\n",
        "        output['tgt'][key] = model.encode(value)\n",
        "    for key, value in p_data['labels'].items():\n",
        "        output['labels'][key] = np.array(value)\n",
        "\n",
        "    return output"
      ]
    },
    {
      "cell_type": "code",
      "execution_count": null,
      "metadata": {
        "id": "qAopyq9LVfVV"
      },
      "outputs": [],
      "source": [
        "e_val_agnostic = encode_LaBSE(p_val_agnostic, model)\n",
        "e_val_aware = encode_LaBSE(p_val_aware, model)\n",
        "e_test = encode_LaBSE(p_test, model)"
      ]
    },
    {
      "cell_type": "code",
      "execution_count": null,
      "metadata": {
        "colab": {
          "base_uri": "https://localhost:8080/"
        },
        "id": "RAa9BMAVMok2",
        "outputId": "767e22a0-416c-4a0a-fe64-3b7ba7f3dd19"
      },
      "outputs": [
        {
          "data": {
            "text/plain": [
              "(80, 768)"
            ]
          },
          "execution_count": 107,
          "metadata": {},
          "output_type": "execute_result"
        }
      ],
      "source": [
        "e_test['hyp']['all'].shape"
      ]
    },
    {
      "cell_type": "code",
      "execution_count": null,
      "metadata": {
        "id": "r51YwoHAVuU8"
      },
      "outputs": [],
      "source": [
        "def similarity(embeddings_1, embeddings_2):\n",
        "    return np.sum(np.multiply(embeddings_1, embeddings_2), 1)\n",
        "\n",
        "def calculate_similarity(e_data):\n",
        "    output = {\n",
        "        'scores': {},\n",
        "        'labels': {},\n",
        "    }\n",
        "    output['labels'] = e_data['labels']\n",
        "    for key in e_data['hyp'].keys():\n",
        "        output['scores'][key] = 1 - similarity(e_data['hyp'][key], e_data['tgt'][key])\n",
        "\n",
        "    return output"
      ]
    },
    {
      "cell_type": "code",
      "execution_count": null,
      "metadata": {
        "id": "gxUuzW3eXHD-"
      },
      "outputs": [],
      "source": [
        "sl_val_agnostic = calculate_similarity(e_val_agnostic)\n",
        "sl_val_aware = calculate_similarity(e_val_aware)\n",
        "sl_test = calculate_similarity(e_test)"
      ]
    },
    {
      "cell_type": "markdown",
      "metadata": {
        "id": "o1U4b5_IYBsH"
      },
      "source": [
        "# 5. Evaluation"
      ]
    },
    {
      "cell_type": "code",
      "execution_count": null,
      "metadata": {
        "id": "8nA9pkntX_sj"
      },
      "outputs": [],
      "source": [
        "import numpy as np\n",
        "from sklearn import metrics\n",
        "import matplotlib.pyplot as plt\n",
        "import scipy.stats\n",
        "\n",
        "\n",
        "def AUC_metric(scores, labels, plot=True):\n",
        "    y = np.where(labels >= 0.5, 1, 0)\n",
        "    pred = scores\n",
        "    fpr, tpr, thresholds = metrics.roc_curve(y, pred)\n",
        "    roc_auc = metrics.auc(fpr, tpr)\n",
        "    display = metrics.RocCurveDisplay(fpr=fpr, tpr=tpr, roc_auc=roc_auc,\n",
        "                                    estimator_name='example estimator')\n",
        "\n",
        "    if plot:\n",
        "        display.plot()\n",
        "        plt.show()\n",
        "    return roc_auc\n",
        "\n",
        "def accuracy(scores, labels, threshold=0.5):\n",
        "    y = np.where(labels >= 0.5, 1, 0)\n",
        "    pred = np.where(scores >= threshold, 1, 0)\n",
        "\n",
        "    return metrics.accuracy_score(y, pred)\n",
        "\n",
        "def S_correlation(scores, labels):\n",
        "    spearman_corr, p_value = scipy.stats.spearmanr(scores, labels)\n",
        "    return spearman_corr\n",
        "\n",
        "def evaluate(name, scores, labels, plot=True):\n",
        "    print(name, \"accuracy:\", accuracy(scores, labels))\n",
        "    print(name, \"spearman correlation:\", S_correlation(scores, labels))\n",
        "    auc = AUC_metric(scores, labels, plot=plot)\n",
        "    print(name, \"auc:\", auc)"
      ]
    },
    {
      "cell_type": "code",
      "execution_count": null,
      "metadata": {
        "id": "FnmLn6dRfbGx"
      },
      "outputs": [],
      "source": [
        "def evaluate_data(data):\n",
        "    for task in tasks:\n",
        "        print(\"task:\", task)\n",
        "        evaluate(f'Val Agnostic, task: {task}', data['scores'][task], data['labels'][task], False)\n",
        "\n",
        "    print(\"All Data:\")\n",
        "    evaluate(f'Val Agnostic', data['scores']['all'], data['labels']['all'], True)"
      ]
    },
    {
      "cell_type": "code",
      "execution_count": null,
      "metadata": {
        "colab": {
          "base_uri": "https://localhost:8080/",
          "height": 727
        },
        "id": "McRyVUGfQ_IT",
        "outputId": "7ffc6ed8-379b-4569-f859-de23d922fd76"
      },
      "outputs": [
        {
          "name": "stdout",
          "output_type": "stream",
          "text": [
            "task: MT\n",
            "Val Agnostic, task: MT accuracy: 0.6203208556149733\n",
            "Val Agnostic, task: MT spearman correlation: 0.6128806933211439\n",
            "Val Agnostic, task: MT auc: 0.873282087118565\n",
            "task: DM\n",
            "Val Agnostic, task: DM accuracy: 0.6577540106951871\n",
            "Val Agnostic, task: DM spearman correlation: 0.3969303285662607\n",
            "Val Agnostic, task: DM auc: 0.7024027459954233\n",
            "task: PG\n",
            "Val Agnostic, task: PG accuracy: 0.712\n",
            "Val Agnostic, task: PG spearman correlation: 0.461378808445309\n",
            "Val Agnostic, task: PG auc: 0.6777777777777778\n",
            "All Data:\n",
            "Val Agnostic accuracy: 0.657314629258517\n",
            "Val Agnostic spearman correlation: 0.47621837330082306\n"
          ]
        },
        {
          "data": {
            "image/png": "[encoded data removed]",
            "text/plain": [
              "<Figure size 640x480 with 1 Axes>"
            ]
          },
          "metadata": {},
          "output_type": "display_data"
        },
        {
          "name": "stdout",
          "output_type": "stream",
          "text": [
            "Val Agnostic auc: 0.7341081981128996\n"
          ]
        }
      ],
      "source": [
        "evaluate_data(sl_val_agnostic)"
      ]
    },
    {
      "cell_type": "code",
      "execution_count": null,
      "metadata": {
        "colab": {
          "base_uri": "https://localhost:8080/",
          "height": 727
        },
        "id": "xhlUnEItaUIF",
        "outputId": "bd013217-a93a-4989-b26f-54d9358ec289"
      },
      "outputs": [
        {
          "name": "stdout",
          "output_type": "stream",
          "text": [
            "task: MT\n",
            "Val Agnostic, task: MT accuracy: 0.5904255319148937\n",
            "Val Agnostic, task: MT spearman correlation: 0.6229453159381316\n",
            "Val Agnostic, task: MT auc: 0.824515690495072\n",
            "task: DM\n",
            "Val Agnostic, task: DM accuracy: 0.6542553191489362\n",
            "Val Agnostic, task: DM spearman correlation: 0.48677210587589964\n",
            "Val Agnostic, task: DM auc: 0.7272727272727272\n",
            "task: PG\n",
            "Val Agnostic, task: PG accuracy: 0.792\n",
            "Val Agnostic, task: PG spearman correlation: 0.2126266919367341\n",
            "Val Agnostic, task: PG auc: 0.6243201243201242\n",
            "All Data:\n",
            "Val Agnostic accuracy: 0.6646706586826348\n",
            "Val Agnostic spearman correlation: 0.39459111221328613\n"
          ]
        },
        {
          "data": {
            "image/png": "[encoded data removed]",
            "text/plain": [
              "<Figure size 640x480 with 1 Axes>"
            ]
          },
          "metadata": {},
          "output_type": "display_data"
        },
        {
          "name": "stdout",
          "output_type": "stream",
          "text": [
            "Val Agnostic auc: 0.6918874444627283\n"
          ]
        }
      ],
      "source": [
        "evaluate_data(sl_val_aware)"
      ]
    },
    {
      "cell_type": "code",
      "execution_count": null,
      "metadata": {
        "colab": {
          "base_uri": "https://localhost:8080/",
          "height": 727
        },
        "id": "ztEIIOnOeFsP",
        "outputId": "659e38db-1b4a-4d51-c0a9-7d13fb4cc4f5"
      },
      "outputs": [
        {
          "name": "stdout",
          "output_type": "stream",
          "text": [
            "task: MT\n",
            "Val Agnostic, task: MT accuracy: 0.5714285714285714\n",
            "Val Agnostic, task: MT spearman correlation: 0.8493611136130801\n",
            "Val Agnostic, task: MT auc: 0.957516339869281\n",
            "task: DM\n",
            "Val Agnostic, task: DM accuracy: 0.6111111111111112\n",
            "Val Agnostic, task: DM spearman correlation: 0.3254103627170718\n",
            "Val Agnostic, task: DM auc: 0.71875\n",
            "task: PG\n",
            "Val Agnostic, task: PG accuracy: 0.7777777777777778\n",
            "Val Agnostic, task: PG spearman correlation: 0.7299432232335216\n",
            "Val Agnostic, task: PG auc: 1.0\n",
            "All Data:\n",
            "Val Agnostic accuracy: 0.6125\n",
            "Val Agnostic spearman correlation: 0.469378050127969\n"
          ]
        },
        {
          "data": {
            "image/png": "[encoded data removed]",
            "text/plain": [
              "<Figure size 640x480 with 1 Axes>"
            ]
          },
          "metadata": {},
          "output_type": "display_data"
        },
        {
          "name": "stdout",
          "output_type": "stream",
          "text": [
            "Val Agnostic auc: 0.7756892230576441\n"
          ]
        }
      ],
      "source": [
        "evaluate_data(sl_test)"
      ]
    },
    {
      "cell_type": "code",
      "execution_count": null,
      "metadata": {
        "id": "Gvi5U_KzffMT"
      },
      "outputs": [],
      "source": [
        "# All test and val data together\n",
        "all_scores = {}\n",
        "all_labels = {}\n",
        "all_sl = {}\n",
        "for task in tasks + ['all']:\n",
        "    all_scores[task] = np.concatenate([sl_val_agnostic['scores'][task], sl_val_aware['scores'][task], sl_test['scores'][task]])\n",
        "    all_labels[task] = np.concatenate([sl_val_agnostic['labels'][task], sl_val_aware['labels'][task], sl_test['labels'][task]])\n",
        "\n",
        "all_sl['scores'] = all_scores\n",
        "all_sl['labels'] = all_labels"
      ]
    },
    {
      "cell_type": "code",
      "execution_count": null,
      "metadata": {
        "colab": {
          "base_uri": "https://localhost:8080/",
          "height": 727
        },
        "id": "Ik3Prta1gmRH",
        "outputId": "09fe1e3b-f6c7-4448-8ff3-deaef336f193"
      },
      "outputs": [
        {
          "name": "stdout",
          "output_type": "stream",
          "text": [
            "task: MT\n",
            "Val Agnostic, task: MT accuracy: 0.6024390243902439\n",
            "Val Agnostic, task: MT spearman correlation: 0.6411878748370609\n",
            "Val Agnostic, task: MT auc: 0.8553472671119728\n",
            "task: DM\n",
            "Val Agnostic, task: DM accuracy: 0.6520681265206812\n",
            "Val Agnostic, task: DM spearman correlation: 0.43252499050327864\n",
            "Val Agnostic, task: DM auc: 0.7165363657900972\n",
            "task: PG\n",
            "Val Agnostic, task: PG accuracy: 0.752895752895753\n",
            "Val Agnostic, task: PG spearman correlation: 0.3782288954247939\n",
            "Val Agnostic, task: PG auc: 0.6740724762726488\n",
            "All Data:\n",
            "Val Agnostic accuracy: 0.6574074074074074\n",
            "Val Agnostic spearman correlation: 0.44582436756657134\n"
          ]
        },
        {
          "data": {
            "image/png": "[encoded data removed]",
            "text/plain": [
              "<Figure size 640x480 with 1 Axes>"
            ]
          },
          "metadata": {},
          "output_type": "display_data"
        },
        {
          "name": "stdout",
          "output_type": "stream",
          "text": [
            "Val Agnostic auc: 0.7195761278326879\n"
          ]
        }
      ],
      "source": [
        "evaluate_data(all_sl)"
      ]
    },
    {
      "cell_type": "markdown",
      "metadata": {
        "id": "Zt-_LE2Dlxgn"
      },
      "source": [
        "# 6. Results\n",
        "\n",
        "Data         | AUC | Accuracy | Spearman Correlation |\n",
        "----------   | --- | -------- | ---------------------|\n",
        "Val Agnostic |0.73 | 0.65     | 0.47                 |\n",
        "Val Aware    |0.69 | 0.66     | 0.39                 |\n",
        "Test         |0.78 | 0.61     | 0.46                 |\n",
        "All          |0.72 | 0.65     | 0.44                 |"
      ]
    },
    {
      "cell_type": "markdown",
      "metadata": {
        "id": "GTkz2U8STQBH"
      },
      "source": [
        "<table>\n",
        "    <tr>\n",
        "        <th colspan=\"1\">\n",
        "            Data\n",
        "        </th>\n",
        "        <th colspan=\"4\">\n",
        "            AUC\n",
        "        </th>\n",
        "        <th colspan=\"4\">\n",
        "            Accuracy\n",
        "        </th>\n",
        "        <th colspan=\"4\">\n",
        "            Spearman Correlation\n",
        "        </th>\n",
        "    </tr>\n",
        "    <tr>\n",
        "        <th>\n",
        "            ...\n",
        "        </th>\n",
        "        <th>\n",
        "            MT\n",
        "        </th>\n",
        "        <th>\n",
        "            DM\n",
        "        </th>\n",
        "        <th>\n",
        "            PG\n",
        "        </th>\n",
        "        <th>\n",
        "            All\n",
        "        </th>\n",
        "        <th>\n",
        "            MT\n",
        "        </th>\n",
        "        <th>\n",
        "            DM\n",
        "        </th>\n",
        "        <th>\n",
        "            PG\n",
        "        </th>\n",
        "        <th>\n",
        "            All\n",
        "        </th>\n",
        "        <th>\n",
        "            MT\n",
        "        </th>\n",
        "        <th>\n",
        "            DM\n",
        "        </th>\n",
        "        <th>\n",
        "            PG\n",
        "        </th>\n",
        "        <th>\n",
        "            All\n",
        "        </th>\n",
        "    </tr>\n",
        "    <tr>\n",
        "        <td>\n",
        "            Val Agnostic\n",
        "        </td>\n",
        "        <td>\n",
        "            0.87\n",
        "        </td>\n",
        "        <td>\n",
        "            0.70\n",
        "        </td>\n",
        "        <td>\n",
        "            0.67\n",
        "        </td>\n",
        "        <td>\n",
        "            0.73\n",
        "        </td>\n",
        "        <td>\n",
        "            62\n",
        "        </td>\n",
        "        <td>\n",
        "            65\n",
        "        </td>\n",
        "        <td>\n",
        "            71\n",
        "        </td>\n",
        "        <td>\n",
        "            65\n",
        "        </td>\n",
        "        <td>\n",
        "            0.61\n",
        "        </td>\n",
        "        <td>\n",
        "            0.39\n",
        "        </td>\n",
        "        <td>\n",
        "            0.46\n",
        "        </td>\n",
        "        <td>\n",
        "            0.47\n",
        "        </td>\n",
        "    </tr>\n",
        "    <tr>\n",
        "        <td>\n",
        "            Val Aware\n",
        "        </td>\n",
        "        <td>\n",
        "            0.82\n",
        "        </td>\n",
        "        <td>\n",
        "            0.72\n",
        "        </td>\n",
        "        <td>\n",
        "            0.62\n",
        "        </td>\n",
        "        <td>\n",
        "            0.69\n",
        "        </td>\n",
        "        <td>\n",
        "            59\n",
        "        </td>\n",
        "        <td>\n",
        "            65\n",
        "        </td>\n",
        "        <td>\n",
        "            79\n",
        "        </td>\n",
        "        <td>\n",
        "            66\n",
        "        </td>\n",
        "        <td>\n",
        "            0.62\n",
        "        </td>\n",
        "        <td>\n",
        "            0.48\n",
        "        </td>\n",
        "        <td>\n",
        "            0.21\n",
        "        </td>\n",
        "        <td>\n",
        "            0.39\n",
        "        </td>\n",
        "    </tr>\n",
        "    <tr>\n",
        "        <td>\n",
        "            Test\n",
        "        </td>\n",
        "        <td>\n",
        "            0.95\n",
        "        </td>\n",
        "        <td>\n",
        "            0.71\n",
        "        </td>\n",
        "        <td>\n",
        "            1\n",
        "        </td>\n",
        "        <td>\n",
        "            0.78\n",
        "        </td>\n",
        "        <td>\n",
        "            57\n",
        "        </td>\n",
        "        <td>\n",
        "            61\n",
        "        </td>\n",
        "        <td>\n",
        "            77\n",
        "        </td>\n",
        "        <td>\n",
        "            61\n",
        "        </td>\n",
        "        <td>\n",
        "            0.95\n",
        "        </td>\n",
        "        <td>\n",
        "            0.32\n",
        "        </td>\n",
        "        <td>\n",
        "            0.72\n",
        "        </td>\n",
        "        <td>\n",
        "            0.46\n",
        "        </td>\n",
        "    </tr>\n",
        "    <tr>\n",
        "        <td>\n",
        "            All Data\n",
        "        </td>\n",
        "        <td>\n",
        "            0.85\n",
        "        </td>\n",
        "        <td>\n",
        "            0.71\n",
        "        </td>\n",
        "        <td>\n",
        "            0.67\n",
        "        </td>\n",
        "        <td>\n",
        "            0.72\n",
        "        </td>\n",
        "        <td>\n",
        "            60\n",
        "        </td>\n",
        "        <td>\n",
        "            65\n",
        "        </td>\n",
        "        <td>\n",
        "            75\n",
        "        </td>\n",
        "        <td>\n",
        "            65\n",
        "        </td>\n",
        "        <td>\n",
        "            0.64\n",
        "        </td>\n",
        "        <td>\n",
        "            0.43\n",
        "        </td>\n",
        "        <td>\n",
        "            0.37\n",
        "        </td>\n",
        "        <td>\n",
        "            0.44\n",
        "        </td>\n",
        "    </tr>\n",
        "</table>"
      ]
    },
    {
      "cell_type": "markdown",
      "metadata": {
        "id": "J1fAOgaMUf8A"
      },
      "source": [
        "# 7. Test On Samples"
      ]
    },
    {
      "cell_type": "code",
      "execution_count": null,
      "metadata": {
        "id": "hShO1rGYe4-p"
      },
      "outputs": [],
      "source": [
        "def show_sample(data, task='all'):\n",
        "    if task != 'all':\n",
        "        sample = data[data['task'] == task].sample().iloc[0]\n",
        "    else:\n",
        "        sample = data.sample().iloc[0]\n",
        "\n",
        "    hyp = sample['hyp']\n",
        "    if sample['ref'] == 'either' or sample['ref'] == 'tgt':\n",
        "        tgt = sample['tgt']\n",
        "    else:\n",
        "        tgt = sample['src']\n",
        "\n",
        "    hyp, tgt = model.encode([hyp]), model.encode([tgt])\n",
        "    score = 1 - similarity(hyp, tgt)\n",
        "\n",
        "    print(\"Task:\", task)\n",
        "    print(\"Src:\", sample['src'])\n",
        "    print(\"Hyp:\", sample['hyp'])\n",
        "    print(\"Target:\", sample['tgt'])\n",
        "    print(\"p(Hullucinate):\", sample['p(Hallucination)'])\n",
        "    print(\"LaBSE p(Hullucinate):\", score)\n",
        "    print(\"\")\n"
      ]
    },
    {
      "cell_type": "code",
      "execution_count": null,
      "metadata": {
        "colab": {
          "base_uri": "https://localhost:8080/"
        },
        "id": "uBX9EDr5fQX1",
        "outputId": "c7769616-a0ec-4d69-dc8b-06817f666949"
      },
      "outputs": [
        {
          "name": "stdout",
          "output_type": "stream",
          "text": [
            "Val Agnostic\n",
            "\n",
            "Task: MT\n",
            "Src: Ты слышал, как птицы щебечут?\n",
            "Hyp: Did you hear how the birds smell?\n",
            "Target: Did you hear the birds tweeting?\n",
            "p(Hullucinate): 1.0\n",
            "LaBSE p(Hullucinate): [0.12377262]\n",
            "\n",
            "Task: DM\n",
            "Src: They enjoyed a wet summer and a <define> bountiful </define> harvest .\n",
            "Hyp: (figuratively) Full of food; bountiful.\n",
            "Target: Having a quantity or amount that is generous or plentiful; ample.\n",
            "p(Hullucinate): 0.6\n",
            "LaBSE p(Hullucinate): [0.5462285]\n",
            "\n",
            "Task: PG\n",
            "Src: Leave your message after the beep.\n",
            "Hyp: You'll leave your message after the beep, and you'll be on your way.\n",
            "Target: Please leave a message at the sound of the tone.\n",
            "p(Hullucinate): 0.6\n",
            "LaBSE p(Hullucinate): [0.4901048]\n",
            "\n",
            "Task: all\n",
            "Src: Я его узнала.\n",
            "Hyp: I knew him.\n",
            "Target: I recognized him.\n",
            "p(Hullucinate): 0.4\n",
            "LaBSE p(Hullucinate): [0.10059351]\n",
            "\n"
          ]
        }
      ],
      "source": [
        "print(\"Val Agnostic\\n\")\n",
        "for task in tasks + ['all']:\n",
        "    show_sample(val_agnostic, task=task)"
      ]
    },
    {
      "cell_type": "code",
      "execution_count": null,
      "metadata": {
        "colab": {
          "base_uri": "https://localhost:8080/"
        },
        "id": "t1Pac_fQfUCt",
        "outputId": "31b83d99-97f5-443b-fd90-a9d03573b293"
      },
      "outputs": [
        {
          "name": "stdout",
          "output_type": "stream",
          "text": [
            "Val Aware\n",
            "\n",
            "Task: MT\n",
            "Src: Agbanyeghị etu ha siri dị nwayọọ, bison, elk, muuz, bea, na anụmanụ ukwu niile nwere ike iluso ọgụ.\n",
            "Hyp: Despite their mild nature, bison, elk, muzzles, bears, and other large animals can all attack.\n",
            "Target: No matter how docile they may look, bison, elk, moose, bears, and nearly all large animals can attack.\n",
            "p(Hullucinate): 0.2\n",
            "LaBSE p(Hullucinate): [0.13755208]\n",
            "\n",
            "Task: DM\n",
            "Src: Akira Toriyama uses a timeskip to rejoin us with Gokū and friends in Dragon Ball Chapter 113 , three years after Gokū leaves Uranai Baba 's Palace for his global trek .\n",
            "Hyp: A short , fast jump , especially one that takes place in a particular time \n",
            "Target: An instance of fast-forwarding a substantial amount of time , such as years or decades , as a narrative device in a story , quickly aging characters and developing events .\n",
            "p(Hullucinate): 0.6\n",
            "LaBSE p(Hullucinate): [0.65280795]\n",
            "\n",
            "Task: PG\n",
            "Src: Lastly, it should be stated that food labelling can never be a manual for good diet.\n",
            "Hyp: Food labelling can't be used as a guide for a good diet.\n",
            "Target: \n",
            "p(Hullucinate): 0.0\n",
            "LaBSE p(Hullucinate): [0.3199851]\n",
            "\n",
            "Task: all\n",
            "Src: `` Anyone have any nasal spray ? '' I asked . `` Afrin specifically ? '' Afrin is basically neosynephrine , a potent vasoconstrictor , and would be ideal to put on a tissue stuffed deeply in the nose .\n",
            "Hyp: a substance that reduces the flow of blood to the vasoconstriction of\n",
            "Target: Any substance that causes vasoconstriction .\n",
            "p(Hullucinate): 0.6\n",
            "LaBSE p(Hullucinate): [0.36797935]\n",
            "\n"
          ]
        }
      ],
      "source": [
        "print(\"Val Aware\\n\")\n",
        "for task in tasks + ['all']:\n",
        "    show_sample(val_aware, task=task)"
      ]
    },
    {
      "cell_type": "code",
      "execution_count": null,
      "metadata": {
        "colab": {
          "base_uri": "https://localhost:8080/"
        },
        "id": "3NqLhDfhhQIN",
        "outputId": "2a6a89a9-33e6-4019-8798-338c9787ab1c"
      },
      "outputs": [
        {
          "name": "stdout",
          "output_type": "stream",
          "text": [
            "Test\n",
            "\n",
            "Task: MT\n",
            "Src: Le groupe séparatiste de Ferhat Mehenni a conclu un compromis avec le groupe islamiste radical Rachad pour la déstabilisation de l'Algérie. C'est ce qui a conduit l'Algérie à officiellement considérer les deux groupes comme des organisations terroristes.\n",
            "Hyp: Farhat Mehenni's separatist group concluded a compromise with the radical Islamist group Rachad for the destabilization of Algeria. This led Algeria to officially consider the two groups as terrorist organizations.\n",
            "Target: Ferhat Mehenni's separatist group cut a deal with the radical Islamist group Rachad to destabilize Algeria. That's what led Algeria to officially consider both groups as terrorist organizations.\n",
            "p(Hullucinate): 0.0\n",
            "LaBSE p(Hullucinate): [0.02732861]\n",
            "\n",
            "Task: DM\n",
            "Src: And thou , our Mother , twice two centuries <define> young </define> ,\n",
            "Hyp: (obsolete) Old; old-fashioned.\n",
            "Target: (Not) advanced in age; (far towards or) at a specified stage of existence or age.\n",
            "p(Hullucinate): 1.0\n",
            "LaBSE p(Hullucinate): [0.45785987]\n",
            "\n",
            "Task: PG\n",
            "Src: A five, six, seven, eight.\n",
            "Hyp: A number between five and eight.\n",
            "Target: And 5, 6, 7, 8.\n",
            "p(Hullucinate): 0.6666666666666666\n",
            "LaBSE p(Hullucinate): [0.4508599]\n",
            "\n",
            "Task: all\n",
            "Src: DuBois and coworkers carried out extensive studies of the thermodynamic <define> hydricity </define> of metal hydrides ( 3.2 ) ; in many cases the metal product resulting following hydride transfer will bind a CH3CN ligand ( not shown in 3.2 ) , so comparisons of hydricity will be solvent - dependent .\n",
            "Hyp: (chemistry) The degree to which a substance is hydrated.\n",
            "Target: (chemistry) The tendency in a transition metal hydride for an H- ion to transfer to a substrate\n",
            "p(Hullucinate): 1.0\n",
            "LaBSE p(Hullucinate): [0.43831778]\n",
            "\n"
          ]
        }
      ],
      "source": [
        "print(\"Test\\n\")\n",
        "for task in tasks + ['all']:\n",
        "    show_sample(test, task=task)"
      ]
    },
    {
      "cell_type": "code",
      "execution_count": null,
      "metadata": {
        "id": "uK5ZzWjWhYIO"
      },
      "outputs": [],
      "source": []
    }
  ],
  "metadata": {
    "accelerator": "GPU",
    "colab": {
      "gpuType": "T4",
      "provenance": []
    },
    "kernelspec": {
      "display_name": "Python 3",
      "name": "python3"
    },
    "language_info": {
      "name": "python"
    }
  },
  "nbformat": 4,
  "nbformat_minor": 0
}
